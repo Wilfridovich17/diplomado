{
 "cells": [
  {
   "cell_type": "markdown",
   "id": "challenging-illinois",
   "metadata": {},
   "source": [
    "# Ejercicios 4 y 5"
   ]
  },
  {
   "cell_type": "markdown",
   "id": "overhead-round",
   "metadata": {},
   "source": [
    "### Carga de datos de Iris"
   ]
  },
  {
   "cell_type": "code",
   "execution_count": 3,
   "id": "suitable-playing",
   "metadata": {},
   "outputs": [
    {
     "name": "stdout",
     "output_type": "stream",
     "text": [
      "   sepal.length  sepal.width  petal.length  petal.width variety\n",
      "0           5.1          3.5           1.4          0.2  Setosa\n",
      "1           4.9          3.0           1.4          0.2  Setosa\n",
      "2           4.7          3.2           1.3          0.2  Setosa\n",
      "3           4.6          3.1           1.5          0.2  Setosa\n",
      "4           5.0          3.6           1.4          0.2  Setosa\n"
     ]
    }
   ],
   "source": [
    "import pandas as pd\n",
    "#Busqué la base de datos y la encontré en este repositorio de GITHUB\n",
    "url = 'https://gist.githubusercontent.com/netj/8836201/raw/6f9306ad21398ea43cba4f7d537619d0e07d5ae3/iris.csv'\n",
    "#Cargar base de datos desde URL\n",
    "iris = pd.read_csv(url)\n",
    "\n",
    "#Solo para ver si cargó bien\n",
    "print(iris.head(5))"
   ]
  },
  {
   "cell_type": "markdown",
   "id": "agricultural-wallace",
   "metadata": {},
   "source": [
    "### Ejercicio 4"
   ]
  },
  {
   "cell_type": "markdown",
   "id": "attractive-cologne",
   "metadata": {},
   "source": [
    "##### Modo paramétrico"
   ]
  },
  {
   "cell_type": "code",
   "execution_count": 4,
   "id": "taken-rental",
   "metadata": {},
   "outputs": [
    {
     "data": {
      "image/png": "[encoded data removed]",
      "text/plain": [
       "<Figure size 432x288 with 1 Axes>"
      ]
     },
     "metadata": {
      "needs_background": "light"
     },
     "output_type": "display_data"
    }
   ],
   "source": [
    "import seaborn as sns\n",
    "import matplotlib.pyplot as plt\n",
    "\n",
    "#Primero visualizamos los datos\n",
    "sns.histplot(data=iris, x='sepal.width', stat='density')\n",
    "plt.show()"
   ]
  },
  {
   "cell_type": "markdown",
   "id": "democratic-metallic",
   "metadata": {},
   "source": [
    "Los datos parecen normales"
   ]
  },
  {
   "cell_type": "code",
   "execution_count": 5,
   "id": "tough-bibliography",
   "metadata": {},
   "outputs": [
    {
     "name": "stdout",
     "output_type": "stream",
     "text": [
      "ShapiroResult(statistic=0.9849170446395874, pvalue=0.10113201290369034)\n"
     ]
    }
   ],
   "source": [
    "from scipy.stats import shapiro, norm\n",
    "\n",
    "#Como igual vamos a trabajar con esta variable, la guardamos para llamarla más fácil\n",
    "ancho_sepalo = iris['sepal.width']\n",
    "\n",
    "#verificamos la una prueba\n",
    "print(shapiro(ancho_sepalo))"
   ]
  },
  {
   "cell_type": "markdown",
   "id": "hungry-collect",
   "metadata": {},
   "source": [
    "Dado que el p-value es mayor a 0.1 podemos decir que no hay evidencia sólida para descartar normalidad. Podemos proseguir."
   ]
  },
  {
   "cell_type": "code",
   "execution_count": 6,
   "id": "destroyed-album",
   "metadata": {},
   "outputs": [
    {
     "name": "stdout",
     "output_type": "stream",
     "text": [
      "[0.58797468]\n"
     ]
    }
   ],
   "source": [
    "import numpy as np\n",
    "\n",
    "#Se calculan los estimadores MLE de la normal\n",
    "mu_x = ancho_sepalo.mean()\n",
    "sd_x = ancho_sepalo.std()\n",
    "\n",
    "#Se calculan los estimadores MLE de los percentiles 25 y 75\n",
    "#Definimos las probabilidades\n",
    "probs = np.array([0.25,0.75])\n",
    "#Se calculan los cuantiles y se calcula su diferencia\n",
    "print(np.diff(norm.ppf(probs,loc=mu_x, scale=sd_x)))"
   ]
  },
  {
   "cell_type": "markdown",
   "id": "concrete-forge",
   "metadata": {},
   "source": [
    "##### No paramétrico"
   ]
  },
  {
   "cell_type": "code",
   "execution_count": 7,
   "id": "varied-plumbing",
   "metadata": {},
   "outputs": [
    {
     "name": "stdout",
     "output_type": "stream",
     "text": [
      "[0.5]\n"
     ]
    }
   ],
   "source": [
    "print(np.diff(np.quantile(ancho_sepalo, probs)))"
   ]
  },
  {
   "cell_type": "markdown",
   "id": "south-worthy",
   "metadata": {},
   "source": [
    "### Ejercicio 5"
   ]
  },
  {
   "cell_type": "code",
   "execution_count": 19,
   "id": "respective-click",
   "metadata": {},
   "outputs": [
    {
     "name": "stdout",
     "output_type": "stream",
     "text": [
      "[1.12664054]\n"
     ]
    }
   ],
   "source": [
    "#La simulación es como sigue:\n",
    "\n",
    "#1. Selecciono una planta a medir (el ancho de sepalo). En otras palabras selecciono una medida conocida.\n",
    "#2. Simulo medirla, es decir, le agrego un error de medición y reporto eso como la medición obtenida\n",
    "\n",
    "#Paso 1, \n",
    "n_sim = 10000\n",
    "mediciones_verdaderas = np.random.normal(loc=mu_x,scale=sd_x, size=n_sim)\n",
    "\n",
    "#Paso 2\n",
    "mediciones_reales = mediciones_verdaderas + np.random.normal(loc=0,scale=0.7, size=n_sim)\n",
    "\n",
    "#Generamos el estimador \n",
    "mu_sim = np.mean(mediciones_reales)\n",
    "sd_sim = np.std(mediciones_reales)\n",
    "print(np.diff(norm.ppf(probs,loc=mu_sim, scale=sd_sim)))"
   ]
  },
  {
   "cell_type": "code",
   "execution_count": 23,
   "id": "fallen-bleeding",
   "metadata": {},
   "outputs": [
    {
     "name": "stdout",
     "output_type": "stream",
     "text": [
      "[1.11905862]\n"
     ]
    }
   ],
   "source": [
    "#Otro sería usando la función de distribución empírica, pero usando la misma lógica\n",
    "\n",
    "#Paso1\n",
    "mediciones_verdaderas = np.random.choice(ancho_sepalo, size=n_sim, replace=True)\n",
    "\n",
    "#Paso 2\n",
    "mediciones_reales = mediciones_verdaderas + np.random.normal(loc=0,scale=0.7, size=n_sim)\n",
    "\n",
    "#Dar el estimado\n",
    "print(np.diff(np.quantile(mediciones_reales, probs)))"
   ]
  },
  {
   "cell_type": "markdown",
   "id": "living-reservoir",
   "metadata": {},
   "source": [
    "Note que ambas medidas son parecidas, igual que en el caso del ejercicio 4"
   ]
  }
 ],
 "metadata": {
  "kernelspec": {
   "display_name": "Python 3",
   "language": "python",
   "name": "python3"
  },
  "language_info": {
   "codemirror_mode": {
    "name": "ipython",
    "version": 3
   },
   "file_extension": ".py",
   "mimetype": "text/x-python",
   "name": "python",
   "nbconvert_exporter": "python",
   "pygments_lexer": "ipython3",
   "version": "3.8.5"
  }
 },
 "nbformat": 4,
 "nbformat_minor": 5
}
